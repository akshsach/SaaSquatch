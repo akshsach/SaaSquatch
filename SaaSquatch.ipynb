{
  "nbformat": 4,
  "nbformat_minor": 0,
  "metadata": {
    "colab": {
      "provenance": []
    },
    "kernelspec": {
      "name": "python3",
      "display_name": "Python 3"
    },
    "language_info": {
      "name": "python"
    }
  },
  "cells": [
    {
      "cell_type": "code",
      "execution_count": 26,
      "metadata": {
        "colab": {
          "base_uri": "https://localhost:8080/"
        },
        "id": "uVYkN8vfG2da",
        "outputId": "e0319a6f-711f-4b62-e38d-759cce7def45"
      },
      "outputs": [
        {
          "output_type": "stream",
          "name": "stdout",
          "text": [
            "Requirement already satisfied: streamlit in /usr/local/lib/python3.11/dist-packages (1.46.1)\n",
            "Requirement already satisfied: email-validator in /usr/local/lib/python3.11/dist-packages (2.2.0)\n",
            "Requirement already satisfied: pandas in /usr/local/lib/python3.11/dist-packages (2.2.2)\n",
            "Requirement already satisfied: altair<6,>=4.0 in /usr/local/lib/python3.11/dist-packages (from streamlit) (5.5.0)\n",
            "Requirement already satisfied: blinker<2,>=1.5.0 in /usr/local/lib/python3.11/dist-packages (from streamlit) (1.9.0)\n",
            "Requirement already satisfied: cachetools<7,>=4.0 in /usr/local/lib/python3.11/dist-packages (from streamlit) (5.5.2)\n",
            "Requirement already satisfied: click<9,>=7.0 in /usr/local/lib/python3.11/dist-packages (from streamlit) (8.2.1)\n",
            "Requirement already satisfied: numpy<3,>=1.23 in /usr/local/lib/python3.11/dist-packages (from streamlit) (2.0.2)\n",
            "Requirement already satisfied: packaging<26,>=20 in /usr/local/lib/python3.11/dist-packages (from streamlit) (24.2)\n",
            "Requirement already satisfied: pillow<12,>=7.1.0 in /usr/local/lib/python3.11/dist-packages (from streamlit) (11.2.1)\n",
            "Requirement already satisfied: protobuf<7,>=3.20 in /usr/local/lib/python3.11/dist-packages (from streamlit) (5.29.5)\n",
            "Requirement already satisfied: pyarrow>=7.0 in /usr/local/lib/python3.11/dist-packages (from streamlit) (18.1.0)\n",
            "Requirement already satisfied: requests<3,>=2.27 in /usr/local/lib/python3.11/dist-packages (from streamlit) (2.32.3)\n",
            "Requirement already satisfied: tenacity<10,>=8.1.0 in /usr/local/lib/python3.11/dist-packages (from streamlit) (8.5.0)\n",
            "Requirement already satisfied: toml<2,>=0.10.1 in /usr/local/lib/python3.11/dist-packages (from streamlit) (0.10.2)\n",
            "Requirement already satisfied: typing-extensions<5,>=4.4.0 in /usr/local/lib/python3.11/dist-packages (from streamlit) (4.14.0)\n",
            "Requirement already satisfied: watchdog<7,>=2.1.5 in /usr/local/lib/python3.11/dist-packages (from streamlit) (6.0.0)\n",
            "Requirement already satisfied: gitpython!=3.1.19,<4,>=3.0.7 in /usr/local/lib/python3.11/dist-packages (from streamlit) (3.1.44)\n",
            "Requirement already satisfied: pydeck<1,>=0.8.0b4 in /usr/local/lib/python3.11/dist-packages (from streamlit) (0.9.1)\n",
            "Requirement already satisfied: tornado!=6.5.0,<7,>=6.0.3 in /usr/local/lib/python3.11/dist-packages (from streamlit) (6.4.2)\n",
            "Requirement already satisfied: dnspython>=2.0.0 in /usr/local/lib/python3.11/dist-packages (from email-validator) (2.7.0)\n",
            "Requirement already satisfied: idna>=2.0.0 in /usr/local/lib/python3.11/dist-packages (from email-validator) (3.10)\n",
            "Requirement already satisfied: python-dateutil>=2.8.2 in /usr/local/lib/python3.11/dist-packages (from pandas) (2.9.0.post0)\n",
            "Requirement already satisfied: pytz>=2020.1 in /usr/local/lib/python3.11/dist-packages (from pandas) (2025.2)\n",
            "Requirement already satisfied: tzdata>=2022.7 in /usr/local/lib/python3.11/dist-packages (from pandas) (2025.2)\n",
            "Requirement already satisfied: jinja2 in /usr/local/lib/python3.11/dist-packages (from altair<6,>=4.0->streamlit) (3.1.6)\n",
            "Requirement already satisfied: jsonschema>=3.0 in /usr/local/lib/python3.11/dist-packages (from altair<6,>=4.0->streamlit) (4.24.0)\n",
            "Requirement already satisfied: narwhals>=1.14.2 in /usr/local/lib/python3.11/dist-packages (from altair<6,>=4.0->streamlit) (1.44.0)\n",
            "Requirement already satisfied: gitdb<5,>=4.0.1 in /usr/local/lib/python3.11/dist-packages (from gitpython!=3.1.19,<4,>=3.0.7->streamlit) (4.0.12)\n",
            "Requirement already satisfied: six>=1.5 in /usr/local/lib/python3.11/dist-packages (from python-dateutil>=2.8.2->pandas) (1.17.0)\n",
            "Requirement already satisfied: charset-normalizer<4,>=2 in /usr/local/lib/python3.11/dist-packages (from requests<3,>=2.27->streamlit) (3.4.2)\n",
            "Requirement already satisfied: urllib3<3,>=1.21.1 in /usr/local/lib/python3.11/dist-packages (from requests<3,>=2.27->streamlit) (2.4.0)\n",
            "Requirement already satisfied: certifi>=2017.4.17 in /usr/local/lib/python3.11/dist-packages (from requests<3,>=2.27->streamlit) (2025.6.15)\n",
            "Requirement already satisfied: smmap<6,>=3.0.1 in /usr/local/lib/python3.11/dist-packages (from gitdb<5,>=4.0.1->gitpython!=3.1.19,<4,>=3.0.7->streamlit) (5.0.2)\n",
            "Requirement already satisfied: MarkupSafe>=2.0 in /usr/local/lib/python3.11/dist-packages (from jinja2->altair<6,>=4.0->streamlit) (3.0.2)\n",
            "Requirement already satisfied: attrs>=22.2.0 in /usr/local/lib/python3.11/dist-packages (from jsonschema>=3.0->altair<6,>=4.0->streamlit) (25.3.0)\n",
            "Requirement already satisfied: jsonschema-specifications>=2023.03.6 in /usr/local/lib/python3.11/dist-packages (from jsonschema>=3.0->altair<6,>=4.0->streamlit) (2025.4.1)\n",
            "Requirement already satisfied: referencing>=0.28.4 in /usr/local/lib/python3.11/dist-packages (from jsonschema>=3.0->altair<6,>=4.0->streamlit) (0.36.2)\n",
            "Requirement already satisfied: rpds-py>=0.7.1 in /usr/local/lib/python3.11/dist-packages (from jsonschema>=3.0->altair<6,>=4.0->streamlit) (0.25.1)\n"
          ]
        }
      ],
      "source": [
        "# Install necessary libraries\n",
        "%pip install streamlit email-validator pandas"
      ]
    },
    {
      "cell_type": "code",
      "metadata": {
        "colab": {
          "base_uri": "https://localhost:8080/"
        },
        "id": "e3d0573d",
        "outputId": "e54ae48d-2984-427c-f182-ae26b0b2c5d4"
      },
      "source": [
        "!pip install pyngrok"
      ],
      "execution_count": 32,
      "outputs": [
        {
          "output_type": "stream",
          "name": "stdout",
          "text": [
            "Requirement already satisfied: pyngrok in /usr/local/lib/python3.11/dist-packages (7.2.11)\n",
            "Requirement already satisfied: PyYAML>=5.1 in /usr/local/lib/python3.11/dist-packages (from pyngrok) (6.0.2)\n"
          ]
        }
      ]
    },
    {
      "cell_type": "code",
      "source": [
        "# preprocess_leads.py\n",
        "\n",
        "import pandas as pd\n",
        "from email_validator import validate_email, EmailNotValidError\n",
        "\n",
        "# Load raw leads\n",
        "df = pd.read_csv(\"raw_leads_100.csv\")\n",
        "\n",
        "# Email validation\n",
        "def validate_emails(email):\n",
        "    try:\n",
        "        validate_email(email)\n",
        "        return True\n",
        "    except EmailNotValidError:\n",
        "        return False\n",
        "\n",
        "df[\"Email Valid\"] = df[\"Email\"].apply(validate_emails)\n",
        "\n",
        "# Title scoring\n",
        "def score_title(title):\n",
        "    title = title.lower()\n",
        "    if any(k in title for k in [\"founder\", \"ceo\", \"cto\", \"head\", \"lead\"]):\n",
        "        return 2\n",
        "    elif any(k in title for k in [\"manager\", \"director\"]):\n",
        "        return 1\n",
        "    else:\n",
        "        return -1\n",
        "\n",
        "# Domain scoring\n",
        "def score_domain(domain):\n",
        "    free_domains = [\"gmail.com\", \"yahoo.com\", \"hotmail.com\"]\n",
        "    return -1 if domain in free_domains else 1\n",
        "\n",
        "# LinkedIn scoring\n",
        "def valid_linkedin(url):\n",
        "    return \"linkedin.com/in/\" in url\n",
        "\n",
        "df[\"Title Score\"] = df[\"Job Title\"].apply(score_title)\n",
        "df[\"Domain Score\"] = df[\"Domain\"].apply(score_domain)\n",
        "df[\"LinkedIn Valid\"] = df[\"LinkedIn\"].apply(valid_linkedin)\n",
        "df[\"LinkedIn Score\"] = df[\"LinkedIn Valid\"].apply(lambda x: 1 if x else -1)\n",
        "df[\"Email Score\"] = df[\"Email Valid\"].apply(lambda x: 1 if x else -1)\n",
        "\n",
        "df[\"Lead Score\"] = df[\"Title Score\"] + df[\"Domain Score\"] + df[\"LinkedIn Score\"] + df[\"Email Score\"]\n",
        "\n",
        "# Save processed leads\n",
        "df.to_csv(\"processed_leads.csv\", index=False)"
      ],
      "metadata": {
        "id": "q2ilAVQjHtRf"
      },
      "execution_count": 27,
      "outputs": []
    },
    {
      "source": [
        "%%writefile streamlit_app.py\n",
        "import streamlit as st\n",
        "import pandas as pd\n",
        "\n",
        "# Load the actual data file\n",
        "try:\n",
        "    df = pd.read_csv(\"/content/processed_leads.csv\")\n",
        "    df.columns = df.columns.str.strip()\n",
        "\n",
        "    st.title(\"Lead Scoring Dashboard\")\n",
        "\n",
        "    # Slider for filtering\n",
        "    min_score = st.slider(\"Minimum Lead Score\", min_value=int(df['Lead Score'].min()), max_value=int(df['Lead Score'].max()), value=0)\n",
        "    filtered_df = df[df['Lead Score'] >= min_score]\n",
        "\n",
        "    st.write(\"Filtered Leads:\")\n",
        "    st.dataframe(filtered_df)\n",
        "\n",
        "    st.download_button(\"Download Filtered Leads as CSV\", data=filtered_df.to_csv(index=False), file_name=\"filtered_leads.csv\", mime=\"text/csv\")\n",
        "\n",
        "except FileNotFoundError:\n",
        "    st.error(\"Error: processed_leads.csv not found.\")\n",
        "except KeyError:\n",
        "    st.error(\"Error: 'Lead Score' column not found.\")\n",
        "except Exception as e:\n",
        "    st.error(f\"Unexpected error: {e}\")\n"
      ],
      "cell_type": "code",
      "metadata": {
        "colab": {
          "base_uri": "https://localhost:8080/"
        },
        "id": "crDiKuhFIQDI",
        "outputId": "1d728785-eb58-456f-d1ef-390550f7921b"
      },
      "execution_count": 28,
      "outputs": [
        {
          "output_type": "stream",
          "name": "stdout",
          "text": [
            "Overwriting streamlit_app.py\n"
          ]
        }
      ]
    },
    {
      "cell_type": "code",
      "source": [
        "%%writefile streamlit_app.py\n",
        "import streamlit as st\n",
        "import pandas as pd\n",
        "import altair as alt\n",
        "\n",
        "st.set_page_config(page_title=\"Lead Dashboard\", layout=\"wide\")\n",
        "\n",
        "# Load processed data - make sure this file exists and is accessible\n",
        "try:\n",
        "    df = pd.read_csv(\"/content/processed_leads.csv\")\n",
        "    df.columns = df.columns.str.strip()\n",
        "\n",
        "    st.title(\"🚀 Lead Scoring Dashboard\")\n",
        "\n",
        "    # 📊 Quick Stats\n",
        "    col1, col2, col3 = st.columns(3)\n",
        "    col1.metric(\"Total Leads\", len(df))\n",
        "    col2.metric(\"Avg Score\", round(df[\"Lead Score\"].mean(), 2))\n",
        "    col3.metric(\"Top Leads\", len(df[df[\"Lead Score\"] >= 5]))\n",
        "\n",
        "    st.markdown(\"---\")\n",
        "\n",
        "    # 🎯 Minimum Score Filter\n",
        "    st.markdown(\"### 🎯 Filter by Minimum Lead Score\")\n",
        "    min_score = st.slider(\"Minimum Lead Score\",\n",
        "                          min_value=int(df['Lead Score'].min()),\n",
        "                          max_value=int(df['Lead Score'].max()),\n",
        "                          value=0)\n",
        "\n",
        "    filtered_df = df[df['Lead Score'] >= min_score]\n",
        "\n",
        "    # 📈 Chart\n",
        "    st.markdown(\"### 📈 Lead Score Distribution\")\n",
        "    chart = alt.Chart(filtered_df).mark_bar().encode(\n",
        "        x=alt.X(\"Lead Score:Q\", bin=alt.Bin(maxbins=20)),\n",
        "        y='count()',\n",
        "        tooltip=['Lead Score']\n",
        "    ).properties(\n",
        "        width=700,\n",
        "        height=300\n",
        "    )\n",
        "\n",
        "    st.altair_chart(chart, use_container_width=True)\n",
        "\n",
        "    # 📋 Table\n",
        "    st.markdown(\"### 📋 Filtered Leads\")\n",
        "    st.dataframe(filtered_df.style.background_gradient(cmap=\"YlGnBu\", subset=[\"Lead Score\"]))\n",
        "\n",
        "    # 📥 Download\n",
        "    st.download_button(\"📥 Download Filtered Leads as CSV\", data=filtered_df.to_csv(index=False), file_name=\"filtered_leads.csv\", mime=\"text/csv\")\n",
        "\n",
        "except FileNotFoundError:\n",
        "    st.error(\"Error: processed_leads.csv not found.\")\n",
        "except KeyError:\n",
        "    st.error(\"Error: 'Lead Score' column missing.\")\n",
        "except Exception as e:\n",
        "    st.error(f\"Unexpected error: {e}\")\n"
      ],
      "metadata": {
        "colab": {
          "base_uri": "https://localhost:8080/"
        },
        "id": "cRw32OZ7URs9",
        "outputId": "116f4b1a-0ca8-4307-8878-ab4ef1408ea6"
      },
      "execution_count": 35,
      "outputs": [
        {
          "output_type": "stream",
          "name": "stdout",
          "text": [
            "Overwriting streamlit_app.py\n"
          ]
        }
      ]
    },
    {
      "cell_type": "code",
      "metadata": {
        "colab": {
          "base_uri": "https://localhost:8080/"
        },
        "id": "7d95db69",
        "outputId": "d8b1dfa8-9546-447f-bd5f-fffd09f3171e"
      },
      "source": [
        "from pyngrok import ngrok\n",
        "import subprocess\n",
        "import os\n",
        "import time # Import the time module\n",
        "\n",
        "# Terminate open tunnels if any\n",
        "print(\"Terminating existing ngrok tunnels\")\n",
        "ngrok.kill()\n",
        "\n",
        "ngrok.set_auth_token(\"2zEuue7oUVwVdxGUm8i4WUPukqg_5Ze5g2hceFbZPyR3CNPoC\")\n",
        "\n",
        "# Open a HTTP tunnel on port 8501 (Streamlit's default port)\n",
        "print(\"Opening ngrok tunnel\")\n",
        "public_url = ngrok.connect(addr=\"8501\", proto=\"http\")\n",
        "print(f\"Streamlit app will be available at: {public_url}\")\n",
        "\n",
        "# Run the Streamlit app in the background\n",
        "print(\"Running Streamlit app\")\n",
        "# Make sure the script exists in the current directory or provide the correct path\n",
        "streamlit_process = subprocess.Popen([\"streamlit\", \"run\", \"streamlit_app.py\"])\n",
        "\n",
        "# Keep the cell alive while the Streamlit app is running\n",
        "# You will need to manually stop this cell when you are done\n",
        "try:\n",
        "    streamlit_process.wait()\n",
        "except KeyboardInterrupt:\n",
        "    streamlit_process.terminate()\n",
        "    print(\"Streamlit process terminated.\")"
      ],
      "execution_count": null,
      "outputs": [
        {
          "metadata": {
            "tags": null
          },
          "name": "stdout",
          "output_type": "stream",
          "text": [
            "Terminating existing ngrok tunnels\n",
            "Opening ngrok tunnel\n",
            "Streamlit app will be available at: NgrokTunnel: \"https://1ab0-34-31-91-148.ngrok-free.app\" -> \"http://localhost:8501\"\n",
            "Running Streamlit app\n"
          ]
        }
      ]
    }
  ]
}